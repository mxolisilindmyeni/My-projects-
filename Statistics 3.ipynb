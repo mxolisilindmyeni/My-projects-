{
 "cells": [
  {
   "cell_type": "code",
   "execution_count": 1,
   "id": "fd3a09ad",
   "metadata": {},
   "outputs": [],
   "source": [
    "import numpy as np"
   ]
  },
  {
   "cell_type": "markdown",
   "id": "dd9c86a8",
   "metadata": {},
   "source": [
    "# Example 1"
   ]
  },
  {
   "cell_type": "code",
   "execution_count": 2,
   "id": "bf7c3c95",
   "metadata": {},
   "outputs": [],
   "source": [
    "height_1=np.array([150,160,130,170,110,130,150,120])"
   ]
  },
  {
   "cell_type": "code",
   "execution_count": 3,
   "id": "c2670295",
   "metadata": {},
   "outputs": [
    {
     "name": "stdout",
     "output_type": "stream",
     "text": [
      "[150 160 130 170 110 130 150 120]\n"
     ]
    }
   ],
   "source": [
    "print(height_1)"
   ]
  },
  {
   "cell_type": "code",
   "execution_count": 4,
   "id": "2db2f229",
   "metadata": {},
   "outputs": [
    {
     "name": "stdout",
     "output_type": "stream",
     "text": [
      "140.0\n"
     ]
    }
   ],
   "source": [
    "print(np.mean(height_1)) #print (height_1.mean())"
   ]
  },
  {
   "cell_type": "code",
   "execution_count": 5,
   "id": "ef826a02",
   "metadata": {},
   "outputs": [
    {
     "name": "stdout",
     "output_type": "stream",
     "text": [
      "375.0\n"
     ]
    }
   ],
   "source": [
    "print(np.var(height_1)) #print (height_1.var())"
   ]
  },
  {
   "cell_type": "code",
   "execution_count": 6,
   "id": "b002f281",
   "metadata": {},
   "outputs": [
    {
     "name": "stdout",
     "output_type": "stream",
     "text": [
      "19.364916731037084\n"
     ]
    }
   ],
   "source": [
    "print(np.std(height_1)) #print (height_1.std())"
   ]
  },
  {
   "cell_type": "code",
   "execution_count": 7,
   "id": "13b2b998",
   "metadata": {},
   "outputs": [
    {
     "name": "stdout",
     "output_type": "stream",
     "text": [
      "170\n"
     ]
    }
   ],
   "source": [
    "print(np.max(height_1)) #print (height_1.max())"
   ]
  },
  {
   "cell_type": "code",
   "execution_count": 8,
   "id": "2163f5ce",
   "metadata": {},
   "outputs": [
    {
     "name": "stdout",
     "output_type": "stream",
     "text": [
      "110\n"
     ]
    }
   ],
   "source": [
    "print(np.min(height_1)) #print (height_1.min())"
   ]
  },
  {
   "cell_type": "code",
   "execution_count": 9,
   "id": "d89fc8d6",
   "metadata": {},
   "outputs": [
    {
     "name": "stdout",
     "output_type": "stream",
     "text": [
      "140.0\n"
     ]
    }
   ],
   "source": [
    "print(np.median(height_1)) #print (height_1.median())"
   ]
  },
  {
   "cell_type": "code",
   "execution_count": 10,
   "id": "304e7a22",
   "metadata": {},
   "outputs": [
    {
     "name": "stdout",
     "output_type": "stream",
     "text": [
      "60\n"
     ]
    }
   ],
   "source": [
    "print(np.ptp(height_1)) #print (height_1.ptp())"
   ]
  },
  {
   "cell_type": "code",
   "execution_count": 11,
   "id": "fc050365",
   "metadata": {},
   "outputs": [
    {
     "name": "stdout",
     "output_type": "stream",
     "text": [
      "127.5\n"
     ]
    }
   ],
   "source": [
    "print(np.percentile(height_1,25)) #data lie below 127.5"
   ]
  },
  {
   "cell_type": "code",
   "execution_count": 12,
   "id": "1b717b28",
   "metadata": {},
   "outputs": [
    {
     "name": "stdout",
     "output_type": "stream",
     "text": [
      "140.0\n"
     ]
    }
   ],
   "source": [
    "print(np.percentile(height_1,50)) #data lie below 140"
   ]
  },
  {
   "cell_type": "code",
   "execution_count": 13,
   "id": "4d483ccf",
   "metadata": {},
   "outputs": [
    {
     "name": "stdout",
     "output_type": "stream",
     "text": [
      "152.5\n"
     ]
    }
   ],
   "source": [
    "print(np.percentile(height_1,75)) #data lie below 152.5"
   ]
  },
  {
   "cell_type": "markdown",
   "id": "5ea03fba",
   "metadata": {},
   "source": [
    "# Example 2: \n",
    "heightin cm=[120,130,120,130,110,130,120,140]"
   ]
  },
  {
   "cell_type": "code",
   "execution_count": 29,
   "id": "f21df73d",
   "metadata": {},
   "outputs": [],
   "source": [
    "height_2=np.array([120,130,120,130,110,130,120,140])\n"
   ]
  },
  {
   "cell_type": "code",
   "execution_count": 30,
   "id": "4dbda025",
   "metadata": {},
   "outputs": [
    {
     "name": "stdout",
     "output_type": "stream",
     "text": [
      "[120 130 120 130 110 130 120 140]\n"
     ]
    }
   ],
   "source": [
    "print(height_2)"
   ]
  },
  {
   "cell_type": "code",
   "execution_count": 31,
   "id": "1f467af1",
   "metadata": {},
   "outputs": [
    {
     "name": "stdout",
     "output_type": "stream",
     "text": [
      "125.0\n"
     ]
    }
   ],
   "source": [
    "print(np.mean(height_2))     #print(height_2.mean())"
   ]
  },
  {
   "cell_type": "code",
   "execution_count": 32,
   "id": "292a8e24",
   "metadata": {},
   "outputs": [
    {
     "name": "stdout",
     "output_type": "stream",
     "text": [
      "75.0\n"
     ]
    }
   ],
   "source": [
    "print(np.var(height_2))      #print(height_2.var())\n"
   ]
  },
  {
   "cell_type": "code",
   "execution_count": 33,
   "id": "68bbeec4",
   "metadata": {},
   "outputs": [
    {
     "name": "stdout",
     "output_type": "stream",
     "text": [
      "8.660254037844387\n"
     ]
    }
   ],
   "source": [
    "print(np.std(height_2))      #print(height_2.std())\n"
   ]
  },
  {
   "cell_type": "code",
   "execution_count": 34,
   "id": "b48e6522",
   "metadata": {},
   "outputs": [
    {
     "name": "stdout",
     "output_type": "stream",
     "text": [
      "140\n"
     ]
    }
   ],
   "source": [
    "print(np.max(height_2))      #print(height_2.max()\n"
   ]
  },
  {
   "cell_type": "code",
   "execution_count": 35,
   "id": "66a43373",
   "metadata": {},
   "outputs": [
    {
     "name": "stdout",
     "output_type": "stream",
     "text": [
      "110\n"
     ]
    }
   ],
   "source": [
    "print(np.min(height_2))     #print(height_2.min())\n"
   ]
  },
  {
   "cell_type": "code",
   "execution_count": 36,
   "id": "c84afe8c",
   "metadata": {},
   "outputs": [
    {
     "name": "stdout",
     "output_type": "stream",
     "text": [
      "125.0\n"
     ]
    }
   ],
   "source": [
    "print(np.median(height_2))  #print(height_2.median()) will not work\n"
   ]
  },
  {
   "cell_type": "code",
   "execution_count": 37,
   "id": "7c36c6aa",
   "metadata": {},
   "outputs": [
    {
     "name": "stdout",
     "output_type": "stream",
     "text": [
      "30\n"
     ]
    }
   ],
   "source": [
    "print(np.ptp(height_2))    # to find range\n"
   ]
  },
  {
   "cell_type": "code",
   "execution_count": 38,
   "id": "1b3f366a",
   "metadata": {},
   "outputs": [
    {
     "name": "stdout",
     "output_type": "stream",
     "text": [
      "30\n"
     ]
    }
   ],
   "source": [
    "print(np.ptp(height_2))    # to find range\n"
   ]
  },
  {
   "cell_type": "code",
   "execution_count": 39,
   "id": "3179eeeb",
   "metadata": {},
   "outputs": [
    {
     "name": "stdout",
     "output_type": "stream",
     "text": [
      "120.0\n"
     ]
    }
   ],
   "source": [
    "print(np.percentile(height_2,25))  # 25% data lie below 120\n"
   ]
  },
  {
   "cell_type": "code",
   "execution_count": 40,
   "id": "b46974b9",
   "metadata": {},
   "outputs": [
    {
     "name": "stdout",
     "output_type": "stream",
     "text": [
      "125.0\n"
     ]
    }
   ],
   "source": [
    "print(np.percentile(height_2,50)) # 50% data lie below 120\n"
   ]
  },
  {
   "cell_type": "code",
   "execution_count": 41,
   "id": "1ea565ee",
   "metadata": {},
   "outputs": [
    {
     "name": "stdout",
     "output_type": "stream",
     "text": [
      "130.0\n"
     ]
    }
   ],
   "source": [
    "print(np.percentile(height_2,75))  # 75% data lie below 130\n"
   ]
  },
  {
   "cell_type": "code",
   "execution_count": null,
   "id": "79d81ca1",
   "metadata": {},
   "outputs": [],
   "source": []
  },
  {
   "cell_type": "markdown",
   "id": "dcb56036",
   "metadata": {},
   "source": [
    "# Mode"
   ]
  },
  {
   "cell_type": "code",
   "execution_count": 42,
   "id": "7e3b7f03",
   "metadata": {},
   "outputs": [],
   "source": [
    "from scipy import stats"
   ]
  },
  {
   "cell_type": "code",
   "execution_count": 43,
   "id": "8d85d819",
   "metadata": {},
   "outputs": [
    {
     "name": "stdout",
     "output_type": "stream",
     "text": [
      "ModeResult(mode=array([130]), count=array([2]))\n"
     ]
    }
   ],
   "source": [
    "print(stats.mode(height_1))"
   ]
  },
  {
   "cell_type": "code",
   "execution_count": 44,
   "id": "7c788cde",
   "metadata": {},
   "outputs": [
    {
     "name": "stdout",
     "output_type": "stream",
     "text": [
      "ModeResult(mode=array([120]), count=array([3]))\n"
     ]
    }
   ],
   "source": [
    "print(stats.mode(height_2))"
   ]
  },
  {
   "cell_type": "code",
   "execution_count": null,
   "id": "599bf080",
   "metadata": {},
   "outputs": [],
   "source": []
  },
  {
   "cell_type": "markdown",
   "id": "a9521536",
   "metadata": {},
   "source": [
    "# Box plot"
   ]
  },
  {
   "cell_type": "markdown",
   "id": "3cd3409b",
   "metadata": {},
   "source": [
    "Box plot of height_1"
   ]
  },
  {
   "cell_type": "code",
   "execution_count": 47,
   "id": "6c31a94f",
   "metadata": {},
   "outputs": [],
   "source": [
    "import matplotlib.pyplot as plt"
   ]
  },
  {
   "cell_type": "code",
   "execution_count": 53,
   "id": "9d069cd8",
   "metadata": {},
   "outputs": [],
   "source": [
    "#fig = plt.figure(figsize =(10, 7))\n"
   ]
  },
  {
   "cell_type": "code",
   "execution_count": 51,
   "id": "84fc08e9",
   "metadata": {},
   "outputs": [
    {
     "data": {
      "image/png": "[encoded data removed]",
      "text/plain": [
       "<Figure size 432x288 with 1 Axes>"
      ]
     },
     "metadata": {
      "needs_background": "light"
     },
     "output_type": "display_data"
    }
   ],
   "source": [
    "plt.boxplot(height_1)\n",
    "plt.show()"
   ]
  },
  {
   "cell_type": "code",
   "execution_count": 52,
   "id": "d9a66875",
   "metadata": {},
   "outputs": [
    {
     "data": {
      "image/png": "[encoded data removed]",
      "text/plain": [
       "<Figure size 432x288 with 1 Axes>"
      ]
     },
     "metadata": {
      "needs_background": "light"
     },
     "output_type": "display_data"
    }
   ],
   "source": [
    "plt.boxplot(height_2)\n",
    "plt.show()\n"
   ]
  },
  {
   "cell_type": "code",
   "execution_count": null,
   "id": "bc759e77",
   "metadata": {},
   "outputs": [],
   "source": []
  },
  {
   "cell_type": "code",
   "execution_count": null,
   "id": "efa611db",
   "metadata": {},
   "outputs": [],
   "source": []
  }
 ],
 "metadata": {
  "kernelspec": {
   "display_name": "Python 3 (ipykernel)",
   "language": "python",
   "name": "python3"
  },
  "language_info": {
   "codemirror_mode": {
    "name": "ipython",
    "version": 3
   },
   "file_extension": ".py",
   "mimetype": "text/x-python",
   "name": "python",
   "nbconvert_exporter": "python",
   "pygments_lexer": "ipython3",
   "version": "3.9.7"
  }
 },
 "nbformat": 4,
 "nbformat_minor": 5
}
