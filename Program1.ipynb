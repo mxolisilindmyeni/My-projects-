{
 "cells": [
  {
   "cell_type": "code",
   "execution_count": 1,
   "id": "6268313e",
   "metadata": {},
   "outputs": [
    {
     "name": "stdout",
     "output_type": "stream",
     "text": [
      "Enter age56\n"
     ]
    }
   ],
   "source": [
    "age=input(\"Enter age\")"
   ]
  },
  {
   "cell_type": "code",
   "execution_count": 2,
   "id": "18fd3a9f",
   "metadata": {},
   "outputs": [
    {
     "name": "stdout",
     "output_type": "stream",
     "text": [
      "56\n"
     ]
    }
   ],
   "source": [
    "print(age)"
   ]
  },
  {
   "cell_type": "code",
   "execution_count": 3,
   "id": "8ed76d51",
   "metadata": {},
   "outputs": [],
   "source": [
    "#Arithetic operators"
   ]
  },
  {
   "cell_type": "code",
   "execution_count": 5,
   "id": "78e0349b",
   "metadata": {},
   "outputs": [],
   "source": [
    "a=10\n",
    "b=20\n",
    "c=a+b"
   ]
  },
  {
   "cell_type": "code",
   "execution_count": 6,
   "id": "a15d0357",
   "metadata": {},
   "outputs": [
    {
     "name": "stdout",
     "output_type": "stream",
     "text": [
      "10 20 30\n"
     ]
    }
   ],
   "source": [
    "print(a,b,c)"
   ]
  },
  {
   "cell_type": "markdown",
   "id": "91bfa680",
   "metadata": {},
   "source": [
    "# Converting input into a int"
   ]
  },
  {
   "cell_type": "code",
   "execution_count": 7,
   "id": "680c9eaf",
   "metadata": {},
   "outputs": [
    {
     "name": "stdout",
     "output_type": "stream",
     "text": [
      "Enter Number50\n",
      "Enter Number70\n",
      "120\n"
     ]
    }
   ],
   "source": [
    "a=input(\"Enter Number\")\n",
    "a=int(a)\n",
    "b=input(\"Enter Number\")\n",
    "b=int(b)\n",
    "c=a+b\n",
    "print(c)"
   ]
  },
  {
   "cell_type": "code",
   "execution_count": 9,
   "id": "124671bc",
   "metadata": {},
   "outputs": [
    {
     "name": "stdout",
     "output_type": "stream",
     "text": [
      "11\n",
      "7\n",
      "18\n",
      "4.5\n",
      "1\n",
      "81\n"
     ]
    }
   ],
   "source": [
    "a=9\n",
    "b=2\n",
    "c=a+b #addition\n",
    "print(c)\n",
    "c=a-b\n",
    "print(c)\n",
    "c=a*b #Multiplication\n",
    "print(c)\n",
    "c=a/b  #will return division \n",
    "print(c)\n",
    "c=a%b  # will return remainder \n",
    "print(c) \n",
    "c=a**b  #c=a is to the of power of b\n",
    "print(c)"
   ]
  },
  {
   "cell_type": "code",
   "execution_count": null,
   "id": "00bc5337",
   "metadata": {},
   "outputs": [],
   "source": [
    "if \n",
    "else\n",
    "for\n",
    "break\n",
    "\n",
    "print\n",
    "input\n",
    "min\n",
    "max\n"
   ]
  }
 ],
 "metadata": {
  "kernelspec": {
   "display_name": "Python 3 (ipykernel)",
   "language": "python",
   "name": "python3"
  },
  "language_info": {
   "codemirror_mode": {
    "name": "ipython",
    "version": 3
   },
   "file_extension": ".py",
   "mimetype": "text/x-python",
   "name": "python",
   "nbconvert_exporter": "python",
   "pygments_lexer": "ipython3",
   "version": "3.9.7"
  }
 },
 "nbformat": 4,
 "nbformat_minor": 5
}
