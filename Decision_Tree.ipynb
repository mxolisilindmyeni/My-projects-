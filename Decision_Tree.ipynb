{
 "cells": [
  {
   "cell_type": "code",
   "execution_count": 6,
   "id": "d2a0ec2f",
   "metadata": {},
   "outputs": [],
   "source": [
    "import pandas as pd\n",
    "from sklearn.tree import DecisionTreeClassifier\n",
    "from sklearn.model_selection import train_test_split\n",
    "from sklearn import tree\n",
    "from sklearn import metrics\n",
    "import matplotlib.pyplot as plt\n",
    "from sklearn.metrics import confusion_matrix\n",
    "from sklearn.metrics import classification_report "
   ]
  },
  {
   "cell_type": "markdown",
   "id": "ebca6a2d",
   "metadata": {},
   "source": [
    "# Import Dataset"
   ]
  },
  {
   "cell_type": "code",
   "execution_count": 8,
   "id": "bc4dbf3a",
   "metadata": {},
   "outputs": [
    {
     "name": "stdout",
     "output_type": "stream",
     "text": [
      "    pregnant  glucose   bp  skin  insulin   bmi  pedigree  age  Outcome\n",
      "0          6      148   72    35        0  33.6     0.627   50        1\n",
      "1          1       85   66    29        0  26.6     0.351   31        0\n",
      "2          8      183   64     0        0  23.3     0.672   32        1\n",
      "3          1       89   66    23       94  28.1     0.167   21        0\n",
      "4          0      137   40    35      168  43.1     2.288   33        1\n",
      "5          5      116   74     0        0  25.6     0.201   30        0\n",
      "6          3       78   50    32       88  31.0     0.248   26        1\n",
      "7         10      115    0     0        0  35.3     0.134   29        0\n",
      "8          2      197   70    45      543  30.5     0.158   53        1\n",
      "9          8      125   96     0        0   0.0     0.232   54        1\n",
      "10         4      110   92     0        0  37.6     0.191   30        0\n",
      "11        10      168   74     0        0  38.0     0.537   34        1\n",
      "12        10      139   80     0        0  27.1     1.441   57        0\n",
      "13         1      189   60    23      846  30.1     0.398   59        1\n",
      "14         5      166   72    19      175  25.8     0.587   51        1\n",
      "15         7      100    0     0        0  30.0     0.484   32        1\n",
      "16         0      118   84    47      230  45.8     0.551   31        1\n",
      "17         7      107   74     0        0  29.6     0.254   31        1\n",
      "18         1      103   30    38       83  43.3     0.183   33        0\n",
      "19         1      115   70    30       96  34.6     0.529   32        1\n",
      "20         3      126   88    41      235  39.3     0.704   27        0\n",
      "21         8       99   84     0        0  35.4     0.388   50        0\n",
      "22         7      196   90     0        0  39.8     0.451   41        1\n",
      "23         9      119   80    35        0  29.0     0.263   29        1\n",
      "24        11      143   94    33      146  36.6     0.254   51        1\n",
      "25        10      125   70    26      115  31.1     0.205   41        1\n",
      "26         7      147   76     0        0  39.4     0.257   43        1\n",
      "27         1       97   66    15      140  23.2     0.487   22        0\n",
      "28        13      145   82    19      110  22.2     0.245   57        0\n",
      "29         5      117   92     0        0  34.1     0.337   38        0\n",
      "30         5      109   75    26        0  36.0     0.546   60        0\n",
      "31         3      158   76    36      245  31.6     0.851   28        1\n",
      "32         3       88   58    11       54  24.8     0.267   22        0\n",
      "33         6       92   92     0        0  19.9     0.188   28        0\n",
      "34        10      122   78    31        0  27.6     0.512   45        0\n",
      "35         4      103   60    33      192  24.0     0.966   33        0\n",
      "36        11      138   76     0        0  33.2     0.420   35        0\n",
      "37         9      102   76    37        0  32.9     0.665   46        1\n",
      "38         2       90   68    42        0  38.2     0.503   27        1\n",
      "39         4      111   72    47      207  37.1     1.390   56        1\n",
      "40         3      180   64    25       70  34.0     0.271   26        0\n",
      "41         7      133   84     0        0  40.2     0.696   37        0\n",
      "42         7      106   92    18        0  22.7     0.235   48        0\n",
      "43         9      171  110    24      240  45.4     0.721   54        1\n",
      "44         7      159   64     0        0  27.4     0.294   40        0\n",
      "45         0      180   66    39        0  42.0     1.893   25        1\n",
      "46         1      146   56     0        0  29.7     0.564   29        0\n",
      "47         2       71   70    27        0  28.0     0.586   22        0\n",
      "48         7      103   66    32        0  39.1     0.344   31        1\n",
      "49         7      105    0     0        0   0.0     0.305   24        0\n",
      "50         1      103   80    11       82  19.4     0.491   22        0\n",
      "51         1      101   50    15       36  24.2     0.526   26        0\n",
      "52         5       88   66    21       23  24.4     0.342   30        0\n",
      "53         8      176   90    34      300  33.7     0.467   58        1\n",
      "54         7      150   66    42      342  34.7     0.718   42        0\n",
      "55         1       73   50    10        0  23.0     0.248   21        0\n",
      "56         7      187   68    39      304  37.7     0.254   41        1\n",
      "57         0      100   88    60      110  46.8     0.962   31        0\n",
      "58         0      146   82     0        0  40.5     1.781   44        0\n",
      "59         0      105   64    41      142  41.5     0.173   22        0\n",
      "60         2       84    0     0        0   0.0     0.304   21        0\n",
      "61         8      133   72     0        0  32.9     0.270   39        1\n",
      "62         5       44   62     0        0  25.0     0.587   36        0\n",
      "63         2      141   58    34      128  25.4     0.699   24        0\n",
      "64         7      114   66     0        0  32.8     0.258   42        1\n",
      "65         5       99   74    27        0  29.0     0.203   32        0\n",
      "66         0      109   88    30        0  32.5     0.855   38        1\n",
      "67         2      109   92     0        0  42.7     0.845   54        0\n",
      "68         1       95   66    13       38  19.6     0.334   25        0\n",
      "69         4      146   85    27      100  28.9     0.189   27        0\n",
      "70         2      100   66    20       90  32.9     0.867   28        1\n",
      "71         5      139   64    35      140  28.6     0.411   26        0\n",
      "72        13      126   90     0        0  43.4     0.583   42        1\n",
      "73         4      129   86    20      270  35.1     0.231   23        0\n",
      "74         1       79   75    30        0  32.0     0.396   22        0\n",
      "75         1        0   48    20        0  24.7     0.140   22        0\n",
      "76         7       62   78     0        0  32.6     0.391   41        0\n",
      "77         5       95   72    33        0  37.7     0.370   27        0\n",
      "78         0      131    0     0        0  43.2     0.270   26        1\n",
      "79         2      112   66    22        0  25.0     0.307   24        0\n",
      "80         3      113   44    13        0  22.4     0.140   22        0\n",
      "81         2       74    0     0        0   0.0     0.102   22        0\n",
      "82         7       83   78    26       71  29.3     0.767   36        0\n",
      "83         0      101   65    28        0  24.6     0.237   22        0\n",
      "84         5      137  108     0        0  48.8     0.227   37        1\n",
      "85         2      110   74    29      125  32.4     0.698   27        0\n",
      "86        13      106   72    54        0  36.6     0.178   45        0\n",
      "87         2      100   68    25       71  38.5     0.324   26        0\n",
      "88        15      136   70    32      110  37.1     0.153   43        1\n",
      "89         1      107   68    19        0  26.5     0.165   24        0\n",
      "90         1       80   55     0        0  19.1     0.258   21        0\n",
      "91         4      123   80    15      176  32.0     0.443   34        0\n",
      "92         7       81   78    40       48  46.7     0.261   42        0\n",
      "93         4      134   72     0        0  23.8     0.277   60        1\n",
      "94         2      142   82    18       64  24.7     0.761   21        0\n",
      "95         6      144   72    27      228  33.9     0.255   40        0\n",
      "96         2       92   62    28        0  31.6     0.130   24        0\n",
      "97         1       71   48    18       76  20.4     0.323   22        0\n",
      "98         6       93   50    30       64  28.7     0.356   23        0\n",
      "99         1      122   90    51      220  49.7     0.325   31        1\n"
     ]
    }
   ],
   "source": [
    "col_names=['pregnant','glucose','bp','skin','insulin','bmi','pedigree','age','Outcome']\n",
    "\n",
    "pd.set_option('display.max_rows', None)\n",
    "dl=pd.read_csv(\"diabetes.csv\",header=None,names=col_names)\n",
    "print(dl)"
   ]
  },
  {
   "cell_type": "markdown",
   "id": "07166e55",
   "metadata": {},
   "source": [
    "# Splitting Dataset"
   ]
  },
  {
   "cell_type": "code",
   "execution_count": 9,
   "id": "6e2f613b",
   "metadata": {},
   "outputs": [
    {
     "name": "stdout",
     "output_type": "stream",
     "text": [
      "(100, 8)\n",
      "(100,)\n"
     ]
    }
   ],
   "source": [
    "x=dl.iloc[:,0:8]\n",
    "y=dl.iloc[:,8]\n",
    "print(x.shape)\n",
    "print(y.shape)"
   ]
  },
  {
   "cell_type": "code",
   "execution_count": 10,
   "id": "6897c01a",
   "metadata": {},
   "outputs": [],
   "source": [
    "x_train,x_test,y_train,y_test=train_test_split(x,y,test_size=0.2,random_state=1)"
   ]
  },
  {
   "cell_type": "code",
   "execution_count": 11,
   "id": "ad74327f",
   "metadata": {},
   "outputs": [
    {
     "name": "stdout",
     "output_type": "stream",
     "text": [
      "(80, 8)\n",
      "(80,)\n",
      "(20, 8)\n",
      "(20,)\n"
     ]
    }
   ],
   "source": [
    "print(x_train.shape)\n",
    "print(y_train.shape)\n",
    "print(x_test.shape)\n",
    "print(y_test.shape)"
   ]
  },
  {
   "cell_type": "markdown",
   "id": "4a7066b7",
   "metadata": {},
   "source": [
    "# Creating Classification Model"
   ]
  },
  {
   "cell_type": "code",
   "execution_count": 12,
   "id": "c91b8484",
   "metadata": {},
   "outputs": [],
   "source": [
    "from sklearn.tree import DecisionTreeClassifier\n",
    "DC=DecisionTreeClassifier()\n",
    "DC=DC.fit(x_train,y_train)\n",
    "y_pred=DC.predict(x_test)"
   ]
  },
  {
   "cell_type": "code",
   "execution_count": 13,
   "id": "deeeba1b",
   "metadata": {},
   "outputs": [
    {
     "name": "stdout",
     "output_type": "stream",
     "text": [
      "[0 0 0 0 0 1 1 0 0 0 0 1 0 0 0 0 1 1 0 0]\n"
     ]
    }
   ],
   "source": [
    "print(y_pred)"
   ]
  },
  {
   "cell_type": "code",
   "execution_count": 14,
   "id": "5c3b8a2d",
   "metadata": {},
   "outputs": [
    {
     "data": {
      "text/html": [
       "<div>\n",
       "<style scoped>\n",
       "    .dataframe tbody tr th:only-of-type {\n",
       "        vertical-align: middle;\n",
       "    }\n",
       "\n",
       "    .dataframe tbody tr th {\n",
       "        vertical-align: top;\n",
       "    }\n",
       "\n",
       "    .dataframe thead th {\n",
       "        text-align: right;\n",
       "    }\n",
       "</style>\n",
       "<table border=\"1\" class=\"dataframe\">\n",
       "  <thead>\n",
       "    <tr style=\"text-align: right;\">\n",
       "      <th></th>\n",
       "      <th>Actual</th>\n",
       "      <th>Predicted</th>\n",
       "    </tr>\n",
       "  </thead>\n",
       "  <tbody>\n",
       "    <tr>\n",
       "      <th>80</th>\n",
       "      <td>0</td>\n",
       "      <td>0</td>\n",
       "    </tr>\n",
       "    <tr>\n",
       "      <th>84</th>\n",
       "      <td>1</td>\n",
       "      <td>0</td>\n",
       "    </tr>\n",
       "    <tr>\n",
       "      <th>33</th>\n",
       "      <td>0</td>\n",
       "      <td>0</td>\n",
       "    </tr>\n",
       "    <tr>\n",
       "      <th>81</th>\n",
       "      <td>0</td>\n",
       "      <td>0</td>\n",
       "    </tr>\n",
       "    <tr>\n",
       "      <th>93</th>\n",
       "      <td>1</td>\n",
       "      <td>0</td>\n",
       "    </tr>\n",
       "  </tbody>\n",
       "</table>\n",
       "</div>"
      ],
      "text/plain": [
       "    Actual  Predicted\n",
       "80       0          0\n",
       "84       1          0\n",
       "33       0          0\n",
       "81       0          0\n",
       "93       1          0"
      ]
     },
     "execution_count": 14,
     "metadata": {},
     "output_type": "execute_result"
    }
   ],
   "source": [
    "d2=pd.DataFrame({'Actual':y_test,'Predicted':y_pred})\n",
    "d2.head()"
   ]
  },
  {
   "cell_type": "code",
   "execution_count": 16,
   "id": "43d3797a",
   "metadata": {},
   "outputs": [
    {
     "data": {
      "image/png": "[encoded data removed]",
      "text/plain": [
       "<Figure size 432x288 with 1 Axes>"
      ]
     },
     "metadata": {
      "needs_background": "light"
     },
     "output_type": "display_data"
    }
   ],
   "source": [
    "tree.plot_tree(DC)\n",
    "plt.savefig('DecisionTree.pdf')"
   ]
  },
  {
   "cell_type": "markdown",
   "id": "c05414f6",
   "metadata": {},
   "source": [
    "# Model Evaluation Metrics"
   ]
  },
  {
   "cell_type": "code",
   "execution_count": 18,
   "id": "687c361a",
   "metadata": {},
   "outputs": [
    {
     "name": "stdout",
     "output_type": "stream",
     "text": [
      "accuracy 0.7\n"
     ]
    }
   ],
   "source": [
    "print(\"accuracy\",metrics.accuracy_score(y_test,y_pred))\n",
    "cf=confusion_matrix(y_test,y_pred)"
   ]
  },
  {
   "cell_type": "code",
   "execution_count": 19,
   "id": "564610e9",
   "metadata": {},
   "outputs": [
    {
     "name": "stdout",
     "output_type": "stream",
     "text": [
      "[[11  2]\n",
      " [ 4  3]]\n"
     ]
    }
   ],
   "source": [
    "print(cf)"
   ]
  },
  {
   "cell_type": "code",
   "execution_count": 20,
   "id": "69d636f3",
   "metadata": {},
   "outputs": [
    {
     "name": "stdout",
     "output_type": "stream",
     "text": [
      "              precision    recall  f1-score   support\n",
      "\n",
      "           0       0.73      0.85      0.79        13\n",
      "           1       0.60      0.43      0.50         7\n",
      "\n",
      "    accuracy                           0.70        20\n",
      "   macro avg       0.67      0.64      0.64        20\n",
      "weighted avg       0.69      0.70      0.69        20\n",
      "\n"
     ]
    }
   ],
   "source": [
    "print(classification_report(y_test,y_pred))"
   ]
  },
  {
   "cell_type": "code",
   "execution_count": null,
   "id": "453454a8",
   "metadata": {},
   "outputs": [],
   "source": []
  }
 ],
 "metadata": {
  "kernelspec": {
   "display_name": "Python 3 (ipykernel)",
   "language": "python",
   "name": "python3"
  },
  "language_info": {
   "codemirror_mode": {
    "name": "ipython",
    "version": 3
   },
   "file_extension": ".py",
   "mimetype": "text/x-python",
   "name": "python",
   "nbconvert_exporter": "python",
   "pygments_lexer": "ipython3",
   "version": "3.9.7"
  }
 },
 "nbformat": 4,
 "nbformat_minor": 5
}
