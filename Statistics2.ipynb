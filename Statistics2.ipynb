{
 "cells": [
  {
   "cell_type": "code",
   "execution_count": 1,
   "id": "2ea9ec3a",
   "metadata": {},
   "outputs": [],
   "source": [
    "import numpy as np\n",
    "import pandas as pd\n",
    "from scipy import stats"
   ]
  },
  {
   "cell_type": "code",
   "execution_count": 2,
   "id": "efbb0f03",
   "metadata": {},
   "outputs": [],
   "source": [
    "data=pd.read_csv(\"Median.csv\")"
   ]
  },
  {
   "cell_type": "markdown",
   "id": "d318d63e",
   "metadata": {},
   "source": [
    "data=np.array([1,2,3,4,5])"
   ]
  },
  {
   "cell_type": "markdown",
   "id": "33d186ad",
   "metadata": {},
   "source": [
    "# View Data on the table format"
   ]
  },
  {
   "cell_type": "code",
   "execution_count": 3,
   "id": "30ed5dee",
   "metadata": {},
   "outputs": [
    {
     "data": {
      "text/html": [
       "<div>\n",
       "<style scoped>\n",
       "    .dataframe tbody tr th:only-of-type {\n",
       "        vertical-align: middle;\n",
       "    }\n",
       "\n",
       "    .dataframe tbody tr th {\n",
       "        vertical-align: top;\n",
       "    }\n",
       "\n",
       "    .dataframe thead th {\n",
       "        text-align: right;\n",
       "    }\n",
       "</style>\n",
       "<table border=\"1\" class=\"dataframe\">\n",
       "  <thead>\n",
       "    <tr style=\"text-align: right;\">\n",
       "      <th></th>\n",
       "      <th>Student</th>\n",
       "      <th>Overall Marks</th>\n",
       "      <th>Gender</th>\n",
       "      <th>Subject</th>\n",
       "    </tr>\n",
       "  </thead>\n",
       "  <tbody>\n",
       "    <tr>\n",
       "      <th>0</th>\n",
       "      <td>Anish</td>\n",
       "      <td>9700</td>\n",
       "      <td>Male</td>\n",
       "      <td>English</td>\n",
       "    </tr>\n",
       "    <tr>\n",
       "      <th>1</th>\n",
       "      <td>Rishabh</td>\n",
       "      <td>83</td>\n",
       "      <td>Male</td>\n",
       "      <td>English</td>\n",
       "    </tr>\n",
       "    <tr>\n",
       "      <th>2</th>\n",
       "      <td>Ajay</td>\n",
       "      <td>78</td>\n",
       "      <td>Male</td>\n",
       "      <td>Physics</td>\n",
       "    </tr>\n",
       "    <tr>\n",
       "      <th>3</th>\n",
       "      <td>Abhinav</td>\n",
       "      <td>86</td>\n",
       "      <td>Male</td>\n",
       "      <td>Chemistry</td>\n",
       "    </tr>\n",
       "    <tr>\n",
       "      <th>4</th>\n",
       "      <td>Anurag</td>\n",
       "      <td>91</td>\n",
       "      <td>Male</td>\n",
       "      <td>English</td>\n",
       "    </tr>\n",
       "  </tbody>\n",
       "</table>\n",
       "</div>"
      ],
      "text/plain": [
       "   Student  Overall Marks Gender    Subject\n",
       "0    Anish           9700   Male    English\n",
       "1  Rishabh             83   Male    English\n",
       "2     Ajay             78   Male    Physics\n",
       "3  Abhinav             86   Male  Chemistry\n",
       "4   Anurag             91   Male    English"
      ]
     },
     "execution_count": 3,
     "metadata": {},
     "output_type": "execute_result"
    }
   ],
   "source": [
    "data.head()"
   ]
  },
  {
   "cell_type": "code",
   "execution_count": 27,
   "id": "f96330fe",
   "metadata": {},
   "outputs": [
    {
     "data": {
      "text/html": [
       "<div>\n",
       "<style scoped>\n",
       "    .dataframe tbody tr th:only-of-type {\n",
       "        vertical-align: middle;\n",
       "    }\n",
       "\n",
       "    .dataframe tbody tr th {\n",
       "        vertical-align: top;\n",
       "    }\n",
       "\n",
       "    .dataframe thead th {\n",
       "        text-align: right;\n",
       "    }\n",
       "</style>\n",
       "<table border=\"1\" class=\"dataframe\">\n",
       "  <thead>\n",
       "    <tr style=\"text-align: right;\">\n",
       "      <th></th>\n",
       "      <th>Student</th>\n",
       "      <th>Overall Marks</th>\n",
       "      <th>Gender</th>\n",
       "      <th>Subject</th>\n",
       "    </tr>\n",
       "  </thead>\n",
       "  <tbody>\n",
       "    <tr>\n",
       "      <th>0</th>\n",
       "      <td>Anish</td>\n",
       "      <td>9700</td>\n",
       "      <td>Male</td>\n",
       "      <td>English</td>\n",
       "    </tr>\n",
       "    <tr>\n",
       "      <th>1</th>\n",
       "      <td>Rishabh</td>\n",
       "      <td>83</td>\n",
       "      <td>Male</td>\n",
       "      <td>English</td>\n",
       "    </tr>\n",
       "    <tr>\n",
       "      <th>2</th>\n",
       "      <td>Ajay</td>\n",
       "      <td>78</td>\n",
       "      <td>Male</td>\n",
       "      <td>Physics</td>\n",
       "    </tr>\n",
       "    <tr>\n",
       "      <th>3</th>\n",
       "      <td>Abhinav</td>\n",
       "      <td>86</td>\n",
       "      <td>Male</td>\n",
       "      <td>Chemistry</td>\n",
       "    </tr>\n",
       "    <tr>\n",
       "      <th>4</th>\n",
       "      <td>Anurag</td>\n",
       "      <td>91</td>\n",
       "      <td>Male</td>\n",
       "      <td>English</td>\n",
       "    </tr>\n",
       "    <tr>\n",
       "      <th>...</th>\n",
       "      <td>...</td>\n",
       "      <td>...</td>\n",
       "      <td>...</td>\n",
       "      <td>...</td>\n",
       "    </tr>\n",
       "    <tr>\n",
       "      <th>95</th>\n",
       "      <td>Aaditya</td>\n",
       "      <td>77</td>\n",
       "      <td>Male</td>\n",
       "      <td>Chemistry</td>\n",
       "    </tr>\n",
       "    <tr>\n",
       "      <th>96</th>\n",
       "      <td>vivek</td>\n",
       "      <td>55</td>\n",
       "      <td>Male</td>\n",
       "      <td>Physics</td>\n",
       "    </tr>\n",
       "    <tr>\n",
       "      <th>97</th>\n",
       "      <td>Tisha</td>\n",
       "      <td>7</td>\n",
       "      <td>Female</td>\n",
       "      <td>English</td>\n",
       "    </tr>\n",
       "    <tr>\n",
       "      <th>98</th>\n",
       "      <td>Raghav</td>\n",
       "      <td>73</td>\n",
       "      <td>Male</td>\n",
       "      <td>English</td>\n",
       "    </tr>\n",
       "    <tr>\n",
       "      <th>99</th>\n",
       "      <td>Ishita</td>\n",
       "      <td>82</td>\n",
       "      <td>Female</td>\n",
       "      <td>Chemistry</td>\n",
       "    </tr>\n",
       "  </tbody>\n",
       "</table>\n",
       "<p>100 rows × 4 columns</p>\n",
       "</div>"
      ],
      "text/plain": [
       "    Student  Overall Marks  Gender    Subject\n",
       "0     Anish           9700    Male    English\n",
       "1   Rishabh             83    Male    English\n",
       "2      Ajay             78    Male    Physics\n",
       "3   Abhinav             86    Male  Chemistry\n",
       "4    Anurag             91    Male    English\n",
       "..      ...            ...     ...        ...\n",
       "95  Aaditya             77    Male  Chemistry\n",
       "96    vivek             55    Male    Physics\n",
       "97    Tisha              7  Female    English\n",
       "98   Raghav             73    Male    English\n",
       "99   Ishita             82  Female  Chemistry\n",
       "\n",
       "[100 rows x 4 columns]"
      ]
     },
     "execution_count": 27,
     "metadata": {},
     "output_type": "execute_result"
    }
   ],
   "source": [
    "data"
   ]
  },
  {
   "cell_type": "markdown",
   "id": "bc5e8e17",
   "metadata": {},
   "source": [
    "# Mode"
   ]
  },
  {
   "cell_type": "code",
   "execution_count": 29,
   "id": "c2875019",
   "metadata": {},
   "outputs": [],
   "source": [
    "mode_data=data['Overall Marks'].mode()"
   ]
  },
  {
   "cell_type": "code",
   "execution_count": 30,
   "id": "a543a2d7",
   "metadata": {},
   "outputs": [
    {
     "name": "stdout",
     "output_type": "stream",
     "text": [
      "0    88\n",
      "dtype: int64\n"
     ]
    }
   ],
   "source": [
    "print(mode_data)"
   ]
  },
  {
   "cell_type": "code",
   "execution_count": 38,
   "id": "91524385",
   "metadata": {},
   "outputs": [],
   "source": [
    "mode=data['Subject'].mode()"
   ]
  },
  {
   "cell_type": "code",
   "execution_count": 39,
   "id": "582fbead",
   "metadata": {},
   "outputs": [
    {
     "name": "stdout",
     "output_type": "stream",
     "text": [
      "0    Chemistry\n",
      "dtype: object\n"
     ]
    }
   ],
   "source": [
    "print(mode)"
   ]
  },
  {
   "cell_type": "markdown",
   "id": "69bf8747",
   "metadata": {},
   "source": [
    "# Mean"
   ]
  },
  {
   "cell_type": "code",
   "execution_count": 40,
   "id": "bfd910de",
   "metadata": {},
   "outputs": [],
   "source": [
    "mean=data['Overall Marks'].mean()"
   ]
  },
  {
   "cell_type": "code",
   "execution_count": 41,
   "id": "61eaf9d5",
   "metadata": {},
   "outputs": [
    {
     "name": "stdout",
     "output_type": "stream",
     "text": [
      "164.24\n"
     ]
    }
   ],
   "source": [
    "print(mean)"
   ]
  },
  {
   "cell_type": "markdown",
   "id": "f9d6bcb2",
   "metadata": {},
   "source": [
    "# Median"
   ]
  },
  {
   "cell_type": "code",
   "execution_count": 42,
   "id": "894d647d",
   "metadata": {},
   "outputs": [],
   "source": [
    "median=data['Overall Marks'].median()"
   ]
  },
  {
   "cell_type": "code",
   "execution_count": 43,
   "id": "14104a33",
   "metadata": {},
   "outputs": [
    {
     "name": "stdout",
     "output_type": "stream",
     "text": [
      "77.0\n"
     ]
    }
   ],
   "source": [
    "print(median)"
   ]
  },
  {
   "cell_type": "markdown",
   "id": "ebb918e1",
   "metadata": {},
   "source": [
    "# Max"
   ]
  },
  {
   "cell_type": "code",
   "execution_count": 44,
   "id": "736f7ed6",
   "metadata": {},
   "outputs": [],
   "source": [
    "MAX=data['Overall Marks'].max()"
   ]
  },
  {
   "cell_type": "code",
   "execution_count": 45,
   "id": "249d3dfe",
   "metadata": {},
   "outputs": [
    {
     "name": "stdout",
     "output_type": "stream",
     "text": [
      "9700\n"
     ]
    }
   ],
   "source": [
    "print(MAX)"
   ]
  },
  {
   "cell_type": "markdown",
   "id": "939bc54f",
   "metadata": {},
   "source": [
    "# Min"
   ]
  },
  {
   "cell_type": "code",
   "execution_count": 46,
   "id": "374aea20",
   "metadata": {},
   "outputs": [],
   "source": [
    "MIN=data['Overall Marks'].min()"
   ]
  },
  {
   "cell_type": "code",
   "execution_count": 47,
   "id": "37587b2b",
   "metadata": {},
   "outputs": [
    {
     "name": "stdout",
     "output_type": "stream",
     "text": [
      "0\n"
     ]
    }
   ],
   "source": [
    "print(MIN)"
   ]
  },
  {
   "cell_type": "code",
   "execution_count": 48,
   "id": "0ea0c411",
   "metadata": {},
   "outputs": [],
   "source": [
    "RANGE=MAX-MIN"
   ]
  },
  {
   "cell_type": "markdown",
   "id": "fce337b6",
   "metadata": {},
   "source": [
    "# Range"
   ]
  },
  {
   "cell_type": "code",
   "execution_count": 49,
   "id": "fa1d9fc9",
   "metadata": {},
   "outputs": [
    {
     "name": "stdout",
     "output_type": "stream",
     "text": [
      "9700\n"
     ]
    }
   ],
   "source": [
    "print(RANGE)"
   ]
  },
  {
   "cell_type": "markdown",
   "id": "9172b1f8",
   "metadata": {},
   "source": [
    "# Difference "
   ]
  },
  {
   "cell_type": "code",
   "execution_count": 50,
   "id": "81c06e33",
   "metadata": {},
   "outputs": [],
   "source": [
    "DIFFERENCE=data['Overall Marks']-mean"
   ]
  },
  {
   "cell_type": "code",
   "execution_count": 51,
   "id": "b8f8d27f",
   "metadata": {},
   "outputs": [
    {
     "data": {
      "text/plain": [
       "0     9535.76\n",
       "1      -81.24\n",
       "2      -86.24\n",
       "3      -78.24\n",
       "4      -73.24\n",
       "       ...   \n",
       "95     -87.24\n",
       "96    -109.24\n",
       "97    -157.24\n",
       "98     -91.24\n",
       "99     -82.24\n",
       "Name: Overall Marks, Length: 100, dtype: float64"
      ]
     },
     "execution_count": 51,
     "metadata": {},
     "output_type": "execute_result"
    }
   ],
   "source": [
    "DIFFERENCE"
   ]
  },
  {
   "cell_type": "markdown",
   "id": "00eb2861",
   "metadata": {},
   "source": [
    "# SQUARED_DIFFERENCE"
   ]
  },
  {
   "cell_type": "code",
   "execution_count": 52,
   "id": "7ccadd65",
   "metadata": {},
   "outputs": [],
   "source": [
    "SQUARED_DIFFERENCE=DIFFERENCE**2"
   ]
  },
  {
   "cell_type": "code",
   "execution_count": 53,
   "id": "8f611154",
   "metadata": {},
   "outputs": [
    {
     "data": {
      "text/plain": [
       "0     9.093072e+07\n",
       "1     6.599938e+03\n",
       "2     7.437338e+03\n",
       "3     6.121498e+03\n",
       "4     5.364098e+03\n",
       "          ...     \n",
       "95    7.610818e+03\n",
       "96    1.193338e+04\n",
       "97    2.472442e+04\n",
       "98    8.324738e+03\n",
       "99    6.763418e+03\n",
       "Name: Overall Marks, Length: 100, dtype: float64"
      ]
     },
     "execution_count": 53,
     "metadata": {},
     "output_type": "execute_result"
    }
   ],
   "source": [
    "SQUARED_DIFFERENCE"
   ]
  },
  {
   "cell_type": "markdown",
   "id": "6ec0eebb",
   "metadata": {},
   "source": [
    "# VARIANCE"
   ]
  },
  {
   "cell_type": "code",
   "execution_count": 54,
   "id": "22d3a58d",
   "metadata": {},
   "outputs": [],
   "source": [
    "VARIANCE=SQUARED_DIFFERENCE.mean()"
   ]
  },
  {
   "cell_type": "code",
   "execution_count": 55,
   "id": "9c6fc089",
   "metadata": {},
   "outputs": [
    {
     "name": "stdout",
     "output_type": "stream",
     "text": [
      "919170.8423999996\n"
     ]
    }
   ],
   "source": [
    "print(VARIANCE)"
   ]
  },
  {
   "cell_type": "code",
   "execution_count": 56,
   "id": "bd1caaf1",
   "metadata": {},
   "outputs": [
    {
     "name": "stdout",
     "output_type": "stream",
     "text": [
      "919170.8423999996\n"
     ]
    }
   ],
   "source": [
    "print(data['Overall Marks'].var(ddof=0))"
   ]
  },
  {
   "cell_type": "markdown",
   "id": "8b34d88e",
   "metadata": {},
   "source": [
    "# STANDARD_DEVIATION"
   ]
  },
  {
   "cell_type": "code",
   "execution_count": 57,
   "id": "b5a179b3",
   "metadata": {},
   "outputs": [],
   "source": [
    "STANDARD_DEVIATION=VARIANCE**(1/2)"
   ]
  },
  {
   "cell_type": "code",
   "execution_count": 58,
   "id": "f98f9dfd",
   "metadata": {},
   "outputs": [
    {
     "name": "stdout",
     "output_type": "stream",
     "text": [
      "958.7339789534944\n"
     ]
    }
   ],
   "source": [
    "print(STANDARD_DEVIATION)"
   ]
  },
  {
   "cell_type": "markdown",
   "id": "7ddbdcb5",
   "metadata": {},
   "source": [
    "# Print subject with marks"
   ]
  },
  {
   "cell_type": "code",
   "execution_count": 59,
   "id": "5410503b",
   "metadata": {},
   "outputs": [
    {
     "name": "stdout",
     "output_type": "stream",
     "text": [
      "Chemistry    36\n",
      "Physics      35\n",
      "English      29\n",
      "Name: Subject, dtype: int64\n"
     ]
    }
   ],
   "source": [
    "print(data['Subject'].value_counts())"
   ]
  },
  {
   "cell_type": "markdown",
   "id": "0d4f389b",
   "metadata": {},
   "source": [
    "# VARIANCE of overall marks"
   ]
  },
  {
   "cell_type": "code",
   "execution_count": 62,
   "id": "f2270781",
   "metadata": {},
   "outputs": [],
   "source": [
    "VARl=np.var(data['Overall Marks'])"
   ]
  },
  {
   "cell_type": "code",
   "execution_count": 63,
   "id": "753f3f0e",
   "metadata": {},
   "outputs": [
    {
     "name": "stdout",
     "output_type": "stream",
     "text": [
      "919170.8423999996\n"
     ]
    }
   ],
   "source": [
    "print(VARl)"
   ]
  },
  {
   "cell_type": "markdown",
   "id": "4d90fae5",
   "metadata": {},
   "source": [
    "# Shout cut of printing the count, mean, std, min, max"
   ]
  },
  {
   "cell_type": "code",
   "execution_count": 65,
   "id": "84ad8e38",
   "metadata": {},
   "outputs": [
    {
     "data": {
      "text/html": [
       "<div>\n",
       "<style scoped>\n",
       "    .dataframe tbody tr th:only-of-type {\n",
       "        vertical-align: middle;\n",
       "    }\n",
       "\n",
       "    .dataframe tbody tr th {\n",
       "        vertical-align: top;\n",
       "    }\n",
       "\n",
       "    .dataframe thead th {\n",
       "        text-align: right;\n",
       "    }\n",
       "</style>\n",
       "<table border=\"1\" class=\"dataframe\">\n",
       "  <thead>\n",
       "    <tr style=\"text-align: right;\">\n",
       "      <th></th>\n",
       "      <th>Overall Marks</th>\n",
       "    </tr>\n",
       "  </thead>\n",
       "  <tbody>\n",
       "    <tr>\n",
       "      <th>count</th>\n",
       "      <td>100.000000</td>\n",
       "    </tr>\n",
       "    <tr>\n",
       "      <th>mean</th>\n",
       "      <td>164.240000</td>\n",
       "    </tr>\n",
       "    <tr>\n",
       "      <th>std</th>\n",
       "      <td>963.563904</td>\n",
       "    </tr>\n",
       "    <tr>\n",
       "      <th>min</th>\n",
       "      <td>0.000000</td>\n",
       "    </tr>\n",
       "    <tr>\n",
       "      <th>25%</th>\n",
       "      <td>57.250000</td>\n",
       "    </tr>\n",
       "    <tr>\n",
       "      <th>50%</th>\n",
       "      <td>77.000000</td>\n",
       "    </tr>\n",
       "    <tr>\n",
       "      <th>75%</th>\n",
       "      <td>87.250000</td>\n",
       "    </tr>\n",
       "    <tr>\n",
       "      <th>max</th>\n",
       "      <td>9700.000000</td>\n",
       "    </tr>\n",
       "  </tbody>\n",
       "</table>\n",
       "</div>"
      ],
      "text/plain": [
       "       Overall Marks\n",
       "count     100.000000\n",
       "mean      164.240000\n",
       "std       963.563904\n",
       "min         0.000000\n",
       "25%        57.250000\n",
       "50%        77.000000\n",
       "75%        87.250000\n",
       "max      9700.000000"
      ]
     },
     "execution_count": 65,
     "metadata": {},
     "output_type": "execute_result"
    }
   ],
   "source": [
    "data.describe()"
   ]
  },
  {
   "cell_type": "code",
   "execution_count": null,
   "id": "522996d2",
   "metadata": {},
   "outputs": [],
   "source": []
  }
 ],
 "metadata": {
  "kernelspec": {
   "display_name": "Python 3 (ipykernel)",
   "language": "python",
   "name": "python3"
  },
  "language_info": {
   "codemirror_mode": {
    "name": "ipython",
    "version": 3
   },
   "file_extension": ".py",
   "mimetype": "text/x-python",
   "name": "python",
   "nbconvert_exporter": "python",
   "pygments_lexer": "ipython3",
   "version": "3.9.7"
  }
 },
 "nbformat": 4,
 "nbformat_minor": 5
}
