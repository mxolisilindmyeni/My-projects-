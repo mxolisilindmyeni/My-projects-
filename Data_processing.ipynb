{
 "cells": [
  {
   "cell_type": "markdown",
   "id": "ffe6c0b2",
   "metadata": {},
   "source": [
    "# Importing Libraries "
   ]
  },
  {
   "cell_type": "code",
   "execution_count": 3,
   "id": "8eab19c6",
   "metadata": {},
   "outputs": [],
   "source": [
    "import numpy as np\n",
    "import pandas as pd"
   ]
  },
  {
   "cell_type": "code",
   "execution_count": 4,
   "id": "fcd74f39",
   "metadata": {},
   "outputs": [],
   "source": [
    "data=pd.read_csv('Data.csv')"
   ]
  },
  {
   "cell_type": "code",
   "execution_count": 5,
   "id": "681ba252",
   "metadata": {},
   "outputs": [
    {
     "name": "stdout",
     "output_type": "stream",
     "text": [
      "   Country   Age   Salary Purchased\n",
      "0   France  44.0  72000.0        No\n",
      "1    Spain  27.0  48000.0       Yes\n",
      "2  Germany  30.0  54000.0        No\n",
      "3    Spain  38.0  61000.0        No\n",
      "4  Germany  40.0      NaN       Yes\n",
      "5   France  35.0  58000.0       Yes\n",
      "6    Spain   NaN  52000.0        No\n",
      "7   France  48.0  79000.0       Yes\n",
      "8  Germany  50.0  83000.0        No\n",
      "9   France  37.0  67000.0       Yes\n"
     ]
    }
   ],
   "source": [
    "print(data)"
   ]
  },
  {
   "cell_type": "code",
   "execution_count": 6,
   "id": "c0d6ca05",
   "metadata": {},
   "outputs": [
    {
     "data": {
      "text/html": [
       "<div>\n",
       "<style scoped>\n",
       "    .dataframe tbody tr th:only-of-type {\n",
       "        vertical-align: middle;\n",
       "    }\n",
       "\n",
       "    .dataframe tbody tr th {\n",
       "        vertical-align: top;\n",
       "    }\n",
       "\n",
       "    .dataframe thead th {\n",
       "        text-align: right;\n",
       "    }\n",
       "</style>\n",
       "<table border=\"1\" class=\"dataframe\">\n",
       "  <thead>\n",
       "    <tr style=\"text-align: right;\">\n",
       "      <th></th>\n",
       "      <th>Country</th>\n",
       "      <th>Age</th>\n",
       "      <th>Salary</th>\n",
       "    </tr>\n",
       "  </thead>\n",
       "  <tbody>\n",
       "    <tr>\n",
       "      <th>0</th>\n",
       "      <td>France</td>\n",
       "      <td>44.0</td>\n",
       "      <td>72000.0</td>\n",
       "    </tr>\n",
       "    <tr>\n",
       "      <th>1</th>\n",
       "      <td>Spain</td>\n",
       "      <td>27.0</td>\n",
       "      <td>48000.0</td>\n",
       "    </tr>\n",
       "    <tr>\n",
       "      <th>2</th>\n",
       "      <td>Germany</td>\n",
       "      <td>30.0</td>\n",
       "      <td>54000.0</td>\n",
       "    </tr>\n",
       "    <tr>\n",
       "      <th>3</th>\n",
       "      <td>Spain</td>\n",
       "      <td>38.0</td>\n",
       "      <td>61000.0</td>\n",
       "    </tr>\n",
       "    <tr>\n",
       "      <th>4</th>\n",
       "      <td>Germany</td>\n",
       "      <td>40.0</td>\n",
       "      <td>NaN</td>\n",
       "    </tr>\n",
       "    <tr>\n",
       "      <th>5</th>\n",
       "      <td>France</td>\n",
       "      <td>35.0</td>\n",
       "      <td>58000.0</td>\n",
       "    </tr>\n",
       "    <tr>\n",
       "      <th>6</th>\n",
       "      <td>Spain</td>\n",
       "      <td>NaN</td>\n",
       "      <td>52000.0</td>\n",
       "    </tr>\n",
       "    <tr>\n",
       "      <th>7</th>\n",
       "      <td>France</td>\n",
       "      <td>48.0</td>\n",
       "      <td>79000.0</td>\n",
       "    </tr>\n",
       "  </tbody>\n",
       "</table>\n",
       "</div>"
      ],
      "text/plain": [
       "   Country   Age   Salary\n",
       "0   France  44.0  72000.0\n",
       "1    Spain  27.0  48000.0\n",
       "2  Germany  30.0  54000.0\n",
       "3    Spain  38.0  61000.0\n",
       "4  Germany  40.0      NaN\n",
       "5   France  35.0  58000.0\n",
       "6    Spain   NaN  52000.0\n",
       "7   France  48.0  79000.0"
      ]
     },
     "execution_count": 6,
     "metadata": {},
     "output_type": "execute_result"
    }
   ],
   "source": [
    "data.iloc[0:8, 0:3]"
   ]
  },
  {
   "cell_type": "code",
   "execution_count": 7,
   "id": "ed690f9e",
   "metadata": {},
   "outputs": [
    {
     "data": {
      "text/html": [
       "<div>\n",
       "<style scoped>\n",
       "    .dataframe tbody tr th:only-of-type {\n",
       "        vertical-align: middle;\n",
       "    }\n",
       "\n",
       "    .dataframe tbody tr th {\n",
       "        vertical-align: top;\n",
       "    }\n",
       "\n",
       "    .dataframe thead th {\n",
       "        text-align: right;\n",
       "    }\n",
       "</style>\n",
       "<table border=\"1\" class=\"dataframe\">\n",
       "  <thead>\n",
       "    <tr style=\"text-align: right;\">\n",
       "      <th></th>\n",
       "      <th>Age</th>\n",
       "      <th>Salary</th>\n",
       "    </tr>\n",
       "  </thead>\n",
       "  <tbody>\n",
       "    <tr>\n",
       "      <th>2</th>\n",
       "      <td>30.0</td>\n",
       "      <td>54000.0</td>\n",
       "    </tr>\n",
       "    <tr>\n",
       "      <th>3</th>\n",
       "      <td>38.0</td>\n",
       "      <td>61000.0</td>\n",
       "    </tr>\n",
       "    <tr>\n",
       "      <th>4</th>\n",
       "      <td>40.0</td>\n",
       "      <td>NaN</td>\n",
       "    </tr>\n",
       "    <tr>\n",
       "      <th>5</th>\n",
       "      <td>35.0</td>\n",
       "      <td>58000.0</td>\n",
       "    </tr>\n",
       "    <tr>\n",
       "      <th>6</th>\n",
       "      <td>NaN</td>\n",
       "      <td>52000.0</td>\n",
       "    </tr>\n",
       "    <tr>\n",
       "      <th>7</th>\n",
       "      <td>48.0</td>\n",
       "      <td>79000.0</td>\n",
       "    </tr>\n",
       "  </tbody>\n",
       "</table>\n",
       "</div>"
      ],
      "text/plain": [
       "    Age   Salary\n",
       "2  30.0  54000.0\n",
       "3  38.0  61000.0\n",
       "4  40.0      NaN\n",
       "5  35.0  58000.0\n",
       "6   NaN  52000.0\n",
       "7  48.0  79000.0"
      ]
     },
     "execution_count": 7,
     "metadata": {},
     "output_type": "execute_result"
    }
   ],
   "source": [
    "data.iloc[2:8, 1:3]"
   ]
  },
  {
   "cell_type": "code",
   "execution_count": 8,
   "id": "aac976ad",
   "metadata": {},
   "outputs": [
    {
     "data": {
      "text/plain": [
       "0     No\n",
       "1    Yes\n",
       "2     No\n",
       "3     No\n",
       "4    Yes\n",
       "5    Yes\n",
       "6     No\n",
       "7    Yes\n",
       "8     No\n",
       "9    Yes\n",
       "Name: Purchased, dtype: object"
      ]
     },
     "execution_count": 8,
     "metadata": {},
     "output_type": "execute_result"
    }
   ],
   "source": [
    "data.iloc[:, 3]"
   ]
  },
  {
   "cell_type": "code",
   "execution_count": 9,
   "id": "f1efba1c",
   "metadata": {},
   "outputs": [
    {
     "data": {
      "text/plain": [
       "1    Yes\n",
       "2     No\n",
       "3     No\n",
       "4    Yes\n",
       "Name: Purchased, dtype: object"
      ]
     },
     "execution_count": 9,
     "metadata": {},
     "output_type": "execute_result"
    }
   ],
   "source": [
    "data.iloc[1:5, -1]"
   ]
  },
  {
   "cell_type": "markdown",
   "id": "b0b684c8",
   "metadata": {},
   "source": [
    "# Taking Care of missing Values"
   ]
  },
  {
   "cell_type": "code",
   "execution_count": 10,
   "id": "74beadab",
   "metadata": {},
   "outputs": [],
   "source": [
    "from sklearn.impute import SimpleImputer"
   ]
  },
  {
   "cell_type": "code",
   "execution_count": 11,
   "id": "3f2c55be",
   "metadata": {},
   "outputs": [
    {
     "name": "stdout",
     "output_type": "stream",
     "text": [
      "   Country        Age        Salary Purchased\n",
      "0   France  44.000000  72000.000000        No\n",
      "1    Spain  27.000000  48000.000000       Yes\n",
      "2  Germany  30.000000  54000.000000        No\n",
      "3    Spain  38.000000  61000.000000        No\n",
      "4  Germany  40.000000  63777.777778       Yes\n",
      "5   France  35.000000  58000.000000       Yes\n",
      "6    Spain  38.777778  52000.000000        No\n",
      "7   France  48.000000  79000.000000       Yes\n",
      "8  Germany  50.000000  83000.000000        No\n",
      "9   France  37.000000  67000.000000       Yes\n"
     ]
    }
   ],
   "source": [
    "#from sklearn.impute import SimpleImputer\n",
    "\n",
    "# 'np.nan' signifies that we are targeting missing values\n",
    "# and the strategy we are choosing is replacing it with 'mean'\n",
    "imputer = SimpleImputer(missing_values=np.nan, strategy='mean')\n",
    "\n",
    "imputer.fit(data.iloc[:, 1:3])\n",
    "data.iloc[:, 1:3] = imputer.transform(data.iloc[:, 1:3])\n",
    "\n",
    "# print the dataset\n",
    "#data.head()\n",
    "print(data)\n"
   ]
  },
  {
   "cell_type": "markdown",
   "id": "367c0a3f",
   "metadata": {},
   "source": [
    "# Encoding categorical data"
   ]
  },
  {
   "cell_type": "markdown",
   "id": "6ddd10cc",
   "metadata": {},
   "source": [
    "# OneHotenconding"
   ]
  },
  {
   "cell_type": "markdown",
   "id": "c334fee0",
   "metadata": {},
   "source": [
    "we'll name the transformer "
   ]
  },
  {
   "cell_type": "code",
   "execution_count": 12,
   "id": "e71c6ec1",
   "metadata": {},
   "outputs": [
    {
     "name": "stdout",
     "output_type": "stream",
     "text": [
      "     0    1    2          3             4    5\n",
      "0  1.0  0.0  0.0       44.0       72000.0   No\n",
      "1  0.0  0.0  1.0       27.0       48000.0  Yes\n",
      "2  0.0  1.0  0.0       30.0       54000.0   No\n",
      "3  0.0  0.0  1.0       38.0       61000.0   No\n",
      "4  0.0  1.0  0.0       40.0  63777.777778  Yes\n",
      "5  1.0  0.0  0.0       35.0       58000.0  Yes\n",
      "6  0.0  0.0  1.0  38.777778       52000.0   No\n",
      "7  1.0  0.0  0.0       48.0       79000.0  Yes\n",
      "8  0.0  1.0  0.0       50.0       83000.0   No\n",
      "9  1.0  0.0  0.0       37.0       67000.0  Yes\n"
     ]
    }
   ],
   "source": [
    "from sklearn.compose import ColumnTransformer\n",
    "from sklearn.preprocessing import OneHotEncoder\n",
    "ct = ColumnTransformer(transformers=[('encoder', OneHotEncoder(), [0])], remainder='passthrough')\n",
    "# [0] signifies the index of the column we are appliying the encoding on\n",
    "data = pd.DataFrame(ct.fit_transform(data))\n",
    "print(data)\n",
    "#data.head()"
   ]
  },
  {
   "cell_type": "markdown",
   "id": "7fc378ae",
   "metadata": {},
   "source": [
    "# LabelEncoding"
   ]
  },
  {
   "cell_type": "code",
   "execution_count": 13,
   "id": "3510ed8d",
   "metadata": {},
   "outputs": [
    {
     "name": "stdout",
     "output_type": "stream",
     "text": [
      "     0    1    2          3             4  5\n",
      "0  1.0  0.0  0.0       44.0       72000.0  0\n",
      "1  0.0  0.0  1.0       27.0       48000.0  1\n",
      "2  0.0  1.0  0.0       30.0       54000.0  0\n",
      "3  0.0  0.0  1.0       38.0       61000.0  0\n",
      "4  0.0  1.0  0.0       40.0  63777.777778  1\n",
      "5  1.0  0.0  0.0       35.0       58000.0  1\n",
      "6  0.0  0.0  1.0  38.777778       52000.0  0\n",
      "7  1.0  0.0  0.0       48.0       79000.0  1\n",
      "8  0.0  1.0  0.0       50.0       83000.0  0\n",
      "9  1.0  0.0  0.0       37.0       67000.0  1\n"
     ]
    }
   ],
   "source": [
    "from sklearn.preprocessing import LabelEncoder\n",
    "le = LabelEncoder()\n",
    "data.iloc[:,-1] = le.fit_transform(data.iloc[:,-1])\n",
    "print(data)"
   ]
  },
  {
   "cell_type": "markdown",
   "id": "7d1320e2",
   "metadata": {},
   "source": [
    "# Normalizing the Data"
   ]
  },
  {
   "cell_type": "markdown",
   "id": "2414cfab",
   "metadata": {},
   "source": [
    "MinMaxscaler scales all the data features"
   ]
  },
  {
   "cell_type": "code",
   "execution_count": 14,
   "id": "e2b0a201",
   "metadata": {},
   "outputs": [
    {
     "name": "stdout",
     "output_type": "stream",
     "text": [
      "     0    1    2         3         4    5\n",
      "0  1.0  0.0  0.0  0.739130  0.685714  0.0\n",
      "1  0.0  0.0  1.0  0.000000  0.000000  1.0\n",
      "2  0.0  1.0  0.0  0.130435  0.171429  0.0\n",
      "3  0.0  0.0  1.0  0.478261  0.371429  0.0\n",
      "4  0.0  1.0  0.0  0.565217  0.450794  1.0\n",
      "5  1.0  0.0  0.0  0.347826  0.285714  1.0\n",
      "6  0.0  0.0  1.0  0.512077  0.114286  0.0\n",
      "7  1.0  0.0  0.0  0.913043  0.885714  1.0\n",
      "8  0.0  1.0  0.0  1.000000  1.000000  0.0\n",
      "9  1.0  0.0  0.0  0.434783  0.542857  1.0\n"
     ]
    }
   ],
   "source": [
    "from sklearn.preprocessing import MinMaxScaler\n",
    "scaler = MinMaxScaler()\n",
    "data = pd.DataFrame(scaler.fit_transform(data))\n",
    "print(data)"
   ]
  },
  {
   "cell_type": "markdown",
   "id": "74453023",
   "metadata": {},
   "source": [
    "# Splitting the dataset"
   ]
  },
  {
   "cell_type": "code",
   "execution_count": 15,
   "id": "5b93fb00",
   "metadata": {},
   "outputs": [
    {
     "name": "stdout",
     "output_type": "stream",
     "text": [
      "Independent Variable\n",
      "\n",
      "[[1.         0.         0.         0.73913043 0.68571429]\n",
      " [0.         0.         1.         0.         0.        ]\n",
      " [0.         1.         0.         0.13043478 0.17142857]\n",
      " [0.         0.         1.         0.47826087 0.37142857]\n",
      " [0.         1.         0.         0.56521739 0.45079365]\n",
      " [1.         0.         0.         0.34782609 0.28571429]\n",
      " [0.         0.         1.         0.51207729 0.11428571]\n",
      " [1.         0.         0.         0.91304348 0.88571429]\n",
      " [0.         1.         0.         1.         1.        ]\n",
      " [1.         0.         0.         0.43478261 0.54285714]]\n",
      "\n",
      "Dependent Variable\n",
      "\n",
      "[0. 1. 0. 0. 1. 1. 0. 1. 0. 1.]\n"
     ]
    }
   ],
   "source": [
    "X = data.iloc[:, :5].values #X = data.iloc[:, :-1].values\n",
    "y = data.iloc[:, 5].values #y = data.iloc[:, -1].values\n",
    "print(\"Independent Variable\\n\")\n",
    "print(X)\n",
    "print(\"\\nDependent Variable\\n\")\n",
    "print(y)"
   ]
  },
  {
   "cell_type": "code",
   "execution_count": 53,
   "id": "56155a96",
   "metadata": {},
   "outputs": [],
   "source": [
    "from sklearn.model_selection import train_test_split\n",
    "X_train, X_test, y_train, y_test = train_test_split(X, y, test_size = 0.2, random_state=0) #or 0"
   ]
  },
  {
   "cell_type": "code",
   "execution_count": 54,
   "id": "9bc04294",
   "metadata": {},
   "outputs": [
    {
     "name": "stdout",
     "output_type": "stream",
     "text": [
      "[[0.         1.         0.         0.56521739 0.45079365]\n",
      " [1.         0.         0.         0.43478261 0.54285714]\n",
      " [0.         0.         1.         0.         0.        ]\n",
      " [0.         0.         1.         0.51207729 0.11428571]\n",
      " [1.         0.         0.         0.91304348 0.88571429]\n",
      " [0.         0.         1.         0.47826087 0.37142857]\n",
      " [1.         0.         0.         0.73913043 0.68571429]\n",
      " [1.         0.         0.         0.34782609 0.28571429]]\n"
     ]
    }
   ],
   "source": [
    "print(X_train)\n"
   ]
  },
  {
   "cell_type": "code",
   "execution_count": 55,
   "id": "11608a0f",
   "metadata": {},
   "outputs": [
    {
     "name": "stdout",
     "output_type": "stream",
     "text": [
      "[[0.         1.         0.         0.13043478 0.17142857]\n",
      " [0.         1.         0.         1.         1.        ]]\n"
     ]
    }
   ],
   "source": [
    "print(X_test)"
   ]
  },
  {
   "cell_type": "code",
   "execution_count": 56,
   "id": "ce23447f",
   "metadata": {},
   "outputs": [
    {
     "name": "stdout",
     "output_type": "stream",
     "text": [
      "[1. 1. 1. 0. 1. 0. 0. 1.]\n"
     ]
    }
   ],
   "source": [
    "print(y_train)"
   ]
  },
  {
   "cell_type": "code",
   "execution_count": 57,
   "id": "7fd480b1",
   "metadata": {},
   "outputs": [
    {
     "name": "stdout",
     "output_type": "stream",
     "text": [
      "[0. 0.]\n"
     ]
    }
   ],
   "source": [
    "print(y_test)\n"
   ]
  },
  {
   "cell_type": "code",
   "execution_count": null,
   "id": "b1316efa",
   "metadata": {},
   "outputs": [],
   "source": [
    "@Hibarere  X = data.iloc[:, :5].values #X = data.iloc[:, :-1].values\n",
    "y = data.iloc[:, 5].values #y = data.iloc[:, -1].values\n",
    "print(\"Independent Variable\\n\")\n",
    "print(X)\n",
    "print(\"\\nDependent Variable\\n\")\n",
    "print(y)"
   ]
  },
  {
   "cell_type": "code",
   "execution_count": null,
   "id": "7c30e5d2",
   "metadata": {},
   "outputs": [],
   "source": []
  }
 ],
 "metadata": {
  "kernelspec": {
   "display_name": "Python 3 (ipykernel)",
   "language": "python",
   "name": "python3"
  },
  "language_info": {
   "codemirror_mode": {
    "name": "ipython",
    "version": 3
   },
   "file_extension": ".py",
   "mimetype": "text/x-python",
   "name": "python",
   "nbconvert_exporter": "python",
   "pygments_lexer": "ipython3",
   "version": "3.9.7"
  }
 },
 "nbformat": 4,
 "nbformat_minor": 5
}
